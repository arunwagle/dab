{
 "cells": [
  {
   "cell_type": "code",
   "execution_count": 0,
   "metadata": {
    "application/vnd.databricks.v1+cell": {
     "cellMetadata": {
      "byteLimit": 2048000,
      "rowLimit": 10000
     },
     "inputWidgets": {},
     "nuid": "b931e1a4-a58f-46a0-a42e-04c0530772cf",
     "showTitle": false,
     "tableResultSettingsMap": {},
     "title": ""
    }
   },
   "outputs": [
    {
     "output_type": "stream",
     "name": "stdout",
     "output_type": "stream",
     "text": [
      "Wrote 1507 bytes.\nSchema for cdl_bronze_dev.poc_udp.bronze_submissions written to /Volumes/cdl_bronze_dev/poc_udp/cora/schemas/bronze_submissions_schema.json\nWrote 2357 bytes.\nSchema for cdl_bronze_dev.poc_udp.gold_document_knowledge_base written to /Volumes/cdl_bronze_dev/poc_udp/cora/schemas/gold_document_knowledge_base_schema.json\nWrote 2188 bytes.\nSchema for cdl_bronze_dev.poc_udp.gold_json_docs_knowledge_base written to /Volumes/cdl_bronze_dev/poc_udp/cora/schemas/gold_json_docs_knowledge_base_schema.json\nWrote 897 bytes.\nSchema for cdl_bronze_dev.poc_udp.silver_document_payloads written to /Volumes/cdl_bronze_dev/poc_udp/cora/schemas/silver_document_payloads_schema.json\nWrote 1421 bytes.\nSchema for cdl_bronze_dev.poc_udp.silver_xml_payloads written to /Volumes/cdl_bronze_dev/poc_udp/cora/schemas/silver_xml_payloads_schema.json\nWrote 1310 bytes.\nSchema for cdl_bronze_dev.poc_udp.silver_json_payloads written to /Volumes/cdl_bronze_dev/poc_udp/cora/schemas/silver_json_payloads_schema.json\n"
     ]
    }
   ],
   "source": [
    "%python\n",
    "from pyspark.sql import SparkSession\n",
    "import json\n",
    "import os\n",
    "\n",
    "# Initialize Spark session\n",
    "spark = SparkSession.builder.getOrCreate()\n",
    "\n",
    "# Configuration\n",
    "catalog_name = \"cdl_bronze_dev\"\n",
    "schema_name = \"poc_udp\"\n",
    "# List of selected tables to process (add or remove as needed)\n",
    "#     \"km_test_embedding_v2_vs\",    \"km_test_embeddings_vs\",    \"raw_trv_sample_doc_chunk_emb\",    \"patterns_withemb_index_test\",    \"raw_files_chunk_emb_index\",\n",
    "selected_tables = [\n",
    "    \"bronze_submissions\",\n",
    "    \"gold_document_knowledge_base\",\n",
    "    \"gold_json_docs_knowledge_base\",\n",
    "    \"silver_document_payloads\",\n",
    "    \"silver_xml_payloads\",\n",
    "    \"silver_json_payloads\"\n",
    "]\n",
    "# Target volume path (update as needed, e.g., '/Volumes/cdl_bronze_dev/poc_udp/schemas/')\n",
    "target_volume_path = \"/Volumes/cdl_bronze_dev/poc_udp/cora/schemas/\"\n",
    "\n",
    "# Ensure the target directory exists (for local or DBFS, adjust as needed)\n",
    "os.makedirs(target_volume_path, exist_ok=True)\n",
    "\n",
    "for table in selected_tables:\n",
    "    full_table_name = f\"{catalog_name}.{schema_name}.{table}\"\n",
    "    try:\n",
    "        df = spark.table(full_table_name)\n",
    "        schema_json = df.schema.json()\n",
    "        # Write schema to a JSON file in the volume using dbutils.fs\n",
    "        schema_file_path = f\"{target_volume_path}{table}_schema.json\"\n",
    "        dbutils.fs.put(schema_file_path, schema_json, overwrite=True)\n",
    "        print(f\"Schema for {full_table_name} written to {schema_file_path}\")\n",
    "    except Exception as e:\n",
    "        print(f\"Failed to process {full_table_name}: {e}\")\n",
    "        raise e"
   ]
  }
 ],
 "metadata": {
  "application/vnd.databricks.v1+notebook": {
   "computePreferences": {
    "hardware": {
     "accelerator": null,
     "gpuPoolId": null,
     "memory": null
    }
   },
   "dashboards": [],
   "environmentMetadata": {
    "base_environment": "",
    "environment_version": "3"
   },
   "inputWidgetPreferences": null,
   "language": "python",
   "notebookMetadata": {
    "pythonIndentUnit": 4
   },
   "notebookName": "generate_schemas_in_volumes",
   "widgets": {}
  },
  "language_info": {
   "name": "python"
  }
 },
 "nbformat": 4,
 "nbformat_minor": 0
}