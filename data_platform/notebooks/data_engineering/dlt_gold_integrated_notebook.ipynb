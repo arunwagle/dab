{
 "cells": [
  {
   "cell_type": "code",
   "execution_count": 0,
   "metadata": {
    "application/vnd.databricks.v1+cell": {
     "cellMetadata": {},
     "inputWidgets": {},
     "nuid": "8f74c871-16a5-4484-9535-cc3901c92308",
     "showTitle": false,
     "tableResultSettingsMap": {},
     "title": ""
    }
   },
   "outputs": [],
   "source": [
    "print (\"Start execution of Group_DLT_Gold_Integrated_Notebook\")\n",
    "catalog = spark.conf.get(\"catalog\")\n",
    "structured_schema = spark.conf.get(\"structured_schema\")\n",
    "curated_schema = spark.conf.get(\"curated_schema\")\n",
    "dimension_table = spark.conf.get(\"dimension_table\")\n",
    "\n",
    "# This parameter is used only for testing purpose, for multiple people working on their own DLT pipleines. This is not used in the production.\n",
    "# Note: When using Databricks Asset Bundle, this can be handled automatically as a configuration\n",
    "table_suffix = spark.conf.get(\"table_suffix\")\n",
    "if table_suffix == \"N/A\":\n",
    "    table_suffix = \"\"\n",
    "else:\n",
    "    # only set for testing or individual developer testing their DLT's\n",
    "    table_suffix = f\"_{table_suffix}\"\n",
    "\n",
    "print(f\"catalog: {catalog}\\n silver_schema: {structured_schema}\\n gold_schema: {curated_schema}\")\n"
   ]
  },
  {
   "cell_type": "markdown",
   "metadata": {},
   "source": [
    "### Framework specific imports"
   ]
  },
  {
   "cell_type": "code",
   "execution_count": 0,
   "metadata": {
    "application/vnd.databricks.v1+cell": {
     "cellMetadata": {},
     "collapsed": true,
     "inputWidgets": {},
     "nuid": "43db50ce-a6cf-4e83-b67b-a906f6e6a3c8",
     "showTitle": false,
     "tableResultSettingsMap": {},
     "title": ""
    }
   },
   "outputs": [],
   "source": [
    "import sys, os\n",
    "sys.path.append(os.path.abspath('../../src'))\n",
    "\n",
    "import importlib\n",
    "\n",
    "module_name = f\"framework.{dimension_table.lower()}.{dimension_table.lower()}_gold\"\n",
    "module = importlib.import_module(module_name)\n",
    "\n",
    "module.run_gold_dlt(spark, catalog, structured_schema, curated_schema, table_suffix)\n"
   ]
  }
 ],
 "metadata": {
  "application/vnd.databricks.v1+notebook": {
   "computePreferences": null,
   "dashboards": [],
   "environmentMetadata": null,
   "inputWidgetPreferences": null,
   "language": "python",
   "notebookMetadata": {
    "pythonIndentUnit": 2
   },
   "notebookName": "dlt_gold_integrated_notebook",
   "widgets": {}
  },
  "language_info": {
   "name": "python"
  }
 },
 "nbformat": 4,
 "nbformat_minor": 0
}
