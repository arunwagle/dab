{
 "cells": [
  {
   "cell_type": "markdown",
   "metadata": {
    "application/vnd.databricks.v1+cell": {
     "cellMetadata": {},
     "inputWidgets": {},
     "nuid": "e46bd9ee-d93d-4e84-a37d-1cbdd10a44af",
     "showTitle": false,
     "tableResultSettingsMap": {},
     "title": ""
    }
   },
   "source": [
    "## Control-M to pass these values to the Databricks workflow"
   ]
  },
  {
   "cell_type": "markdown",
   "metadata": {
    "application/vnd.databricks.v1+cell": {
     "cellMetadata": {},
     "inputWidgets": {},
     "nuid": "9da5eabc-24ff-4540-8013-d50d1aac9a60",
     "showTitle": false,
     "tableResultSettingsMap": {},
     "title": ""
    }
   },
   "source": [
    "### Workflow parameters\n",
    "All parameters except job_id, run_id are set from  from the calling notebooks. "
   ]
  },
  {
   "cell_type": "code",
   "execution_count": null,
   "metadata": {},
   "outputs": [],
   "source": [
    "from datetime import datetime"
   ]
  },
  {
   "cell_type": "code",
   "execution_count": 0,
   "metadata": {
    "application/vnd.databricks.v1+cell": {
     "cellMetadata": {},
     "inputWidgets": {},
     "nuid": "cc169ccc-a296-41f9-9ec4-ef53dde04a41",
     "showTitle": false,
     "tableResultSettingsMap": {},
     "title": ""
    }
   },
   "outputs": [],
   "source": [
    "dimension_table = dbutils.widgets.getArgument(\"dimension_table\")\n",
    "dlt_runtime_config_table = dbutils.widgets.getArgument(\"dlt_runtime_config_table\")\n",
    "source_system = dbutils.widgets.getArgument(\"source_system\")\n",
    "scenario = dbutils.widgets.getArgument(\"scenario\")\n",
    "scenario_type = dbutils.widgets.getArgument(\"scenario_type\")\n",
    "refresh_type = dbutils.widgets.getArgument(\"refresh_type\")\n",
    "catalog = dbutils.widgets.getArgument(\"catalog\")\n",
    "schema = dbutils.widgets.getArgument(\"schema\")\n",
    "job_id = dbutils.widgets.getArgument(\"job_id\")\n",
    "job_run_id = dbutils.widgets.getArgument(\"run_id\")\n",
    "table_suffix = dbutils.widgets.getArgument(\"table_suffix\")\n",
    "if table_suffix == \"N/A\":\n",
    "    table_suffix = \"\"\n",
    "else:\n",
    "    # only set for testing or individual developer testing their DLT's\n",
    "    table_suffix = f\"_{table_suffix}\"\n",
    "test_mode = dbutils.widgets.getArgument(\"test_mode\")\n",
    "\n",
    "print(f\"Getting workflow parameters::\\n\"\n",
    "      f\"dimension_table::{dimension_table}\\n\"\n",
    "      f\"dlt_runtime_config_table::{dlt_runtime_config_table}\\n\"\n",
    "      f\"source_system::{source_system}\"\n",
    "      f\"scenario::{scenario}\\n\"\n",
    "      f\"scenario_type::{scenario_type}\\n\"\n",
    "      f\"refresh_type:{refresh_type}\\n\"\n",
    "      f\"catalog::{catalog}\\n\"\n",
    "      f\"schema::{schema}\\n\"\n",
    "      f\"job_id::{job_id}\\n\"\n",
    "      f\"job_run_id::{job_run_id}\\n\"\n",
    "      f\"table_suffix::{table_suffix}\\n\"\n",
    "      f\"test_mode::{test_mode}\")"
   ]
  },
  {
   "cell_type": "markdown",
   "metadata": {
    "application/vnd.databricks.v1+cell": {
     "cellMetadata": {},
     "inputWidgets": {},
     "nuid": "b9af952f-0d71-48c9-b1bc-7c465a3ccaca",
     "showTitle": false,
     "tableResultSettingsMap": {},
     "title": ""
    }
   },
   "source": [
    "### Set task variables\n",
    "Set these values in the task variables for accessing in other workflow steps.  \n",
    "_Note: The task variables are not available in the DLT pipelines directly._ "
   ]
  },
  {
   "cell_type": "code",
   "execution_count": 0,
   "metadata": {
    "application/vnd.databricks.v1+cell": {
     "cellMetadata": {},
     "inputWidgets": {},
     "nuid": "0d3845fd-a776-416c-b0e7-d4b37fb08095",
     "showTitle": false,
     "tableResultSettingsMap": {},
     "title": ""
    }
   },
   "outputs": [],
   "source": [
    "dbutils.jobs.taskValues.set(\"dimension_table\", dimension_table)\n",
    "dbutils.jobs.taskValues.set(\"dlt_runtime_config_table\", dlt_runtime_config_table)\n",
    "dbutils.jobs.taskValues.set(\"source_system\", source_system)\n",
    "dbutils.jobs.taskValues.set(\"scenario\", scenario)\n",
    "dbutils.jobs.taskValues.set(\"scenario_type\", scenario_type)\n",
    "dbutils.jobs.taskValues.set(\"refresh_type\", refresh_type)\n",
    "dbutils.jobs.taskValues.set(\"catalog\", catalog)\n",
    "dbutils.jobs.taskValues.set(\"schema\", schema)\n",
    "dbutils.jobs.taskValues.set(\"job_id\", job_id)\n",
    "dbutils.jobs.taskValues.set(\"run_id\", job_run_id)\n",
    "# table_suffix used only for testing. Thi sis used as multiple DLT pipelines worked by different developers cannot write to the same table.\n",
    "dbutils.jobs.taskValues.set(\"table_suffix\", table_suffix)\n",
    "dbutils.jobs.taskValues.set(\"test_mode\", test_mode)"
   ]
  }
 ],
 "metadata": {
  "application/vnd.databricks.v1+notebook": {
   "computePreferences": null,
   "dashboards": [],
   "environmentMetadata": null,
   "inputWidgetPreferences": null,
   "language": "python",
   "notebookMetadata": {},
   "notebookName": "job_setup_notebook",
   "widgets": {}
  },
  "language_info": {
   "name": "python"
  }
 },
 "nbformat": 4,
 "nbformat_minor": 0
}
